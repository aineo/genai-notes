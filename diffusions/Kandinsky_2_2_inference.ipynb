{
  "cells": [
    {
      "cell_type": "markdown",
      "metadata": {
        "id": "9jbh7Gxxb6sO"
      },
      "source": [
        "###Check runtime"
      ]
    },
    {
      "cell_type": "code",
      "execution_count": null,
      "metadata": {
        "id": "YJAJDDdYa8VG"
      },
      "outputs": [],
      "source": [
        "!nvidia-smi"
      ]
    },
    {
      "cell_type": "markdown",
      "metadata": {
        "id": "D87CZ-TJb9xG"
      },
      "source": [
        "###Install diffusers from Huggingface"
      ]
    },
    {
      "cell_type": "code",
      "execution_count": null,
      "metadata": {
        "id": "6s0doy3MbHuB"
      },
      "outputs": [],
      "source": [
        "!pip install -q -U diffusers"
      ]
    },
    {
      "cell_type": "markdown",
      "metadata": {
        "id": "YXKpd-HccEdS"
      },
      "source": [
        "###Import libraries"
      ]
    },
    {
      "cell_type": "code",
      "execution_count": null,
      "metadata": {
        "id": "bYW6AcbEbRc-"
      },
      "outputs": [],
      "source": [
        "import torch\n",
        "from diffusers import FluxPipeline, AutoPipelineForText2Image"
      ]
    },
    {
      "cell_type": "markdown",
      "metadata": {
        "id": "q9RvN5bfdFMN"
      },
      "source": [
        "###Add kandinsky pipeline"
      ]
    },
    {
      "cell_type": "code",
      "execution_count": null,
      "metadata": {
        "id": "Cll0OAH_dQWw"
      },
      "outputs": [],
      "source": [
        "pipe = AutoPipelineForText2Image.from_pretrained(\n",
        "    \"kandinsky-community/kandinsky-2-2-decoder\", torch_dtype=torch.float16\n",
        ")"
      ]
    },
    {
      "cell_type": "markdown",
      "metadata": {
        "id": "VrkpIJ6wcJzD"
      },
      "source": [
        "###Generate Kandinky 2.2 image"
      ]
    },
    {
      "cell_type": "code",
      "execution_count": null,
      "metadata": {
        "id": "5cGLdNGakCkg"
      },
      "outputs": [],
      "source": [
        "negative_prompt = \"\"\"\n",
        "  worst quality, normal quality, low quality, low res, blurry, distortion, text, watermark, logo, banner, extra digits, cropped,\n",
        "  jpeg artifacts, signature, username, error, sketch, duplicate, ugly, monochrome, horror, geometry, mutation, disgusting, bad anatomy,\n",
        "  bad proportions, bad quality, deformed, disconnected limbs, out of frame, out of focus, dehydrated, disfigured, extra arms, extra limbs,\n",
        "  extra hands, fused fingers, gross proportions, long neck, jpeg, malformed limbs, mutated, mutated hands, mutated limbs, missing arms, missing fingers,\n",
        "  picture frame, poorly drawn hands, poorly drawn face, collage, pixel, pixelated, grainy, color aberration, amputee, autograph, bad illustration,\n",
        "  beyond the borders, blank background, body out of frame, boring background, branding, cut off, dismembered, disproportioned, distorted, draft,\n",
        "  duplicated features, extra fingers, extra legs, fault, flaw, grains, hazy, identifying mark, improper scale, incorrect physiology, incorrect ratio,\n",
        "  indistinct, kitsch, low resolution, macabre, malformed, mark, misshapen, missing hands, missing legs, mistake, morbid, mutilated, off-screen, outside the picture,\n",
        "  poorly drawn feet, printed words, render, repellent, replicate, reproduce, revolting dimensions, script, shortened, sign, split image, squint, storyboard,\n",
        "  tiling, trimmed, unfocused, unattractive, unnatural pose, unreal engine, unsightly, written language, nsfw, cartoon\n",
        "\"\"\""
      ]
    },
    {
      "cell_type": "code",
      "execution_count": null,
      "metadata": {
        "id": "PJx57rmcbUU-"
      },
      "outputs": [],
      "source": [
        "pipe.enable_model_cpu_offload()\n",
        "prompt = \"One horse in an aquarium, cold color palette, muted colors, detailed, 4k\"\n",
        "image = pipe(\n",
        "    prompt,\n",
        "    negative_prompt=negative_prompt,\n",
        "    height=1024,\n",
        "    width=1024,\n",
        "    guidance_scale=3.5,\n",
        "    num_inference_steps=50,\n",
        ").images[0]\n",
        "image.save(\"kandinsky-whale.png\")"
      ]
    },
    {
      "cell_type": "code",
      "execution_count": null,
      "metadata": {
        "id": "i0TGi-sED2ic"
      },
      "outputs": [],
      "source": [
        "image"
      ]
    }
  ],
  "metadata": {
    "accelerator": "GPU",
    "colab": {
      "gpuType": "T4",
      "provenance": []
    },
    "kernelspec": {
      "display_name": "Python 3",
      "name": "python3"
    },
    "language_info": {
      "name": "python"
    },
    "state": {}
  },
  "nbformat": 4,
  "nbformat_minor": 0
}
